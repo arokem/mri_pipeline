{
 "cells": [
  {
   "cell_type": "code",
   "execution_count": 1,
   "metadata": {},
   "outputs": [],
   "source": [
    "%matplotlib inline"
   ]
  },
  {
   "cell_type": "code",
   "execution_count": 2,
   "metadata": {},
   "outputs": [
    {
     "name": "stderr",
     "output_type": "stream",
     "text": [
      "/Users/arokem/.virtualenvs/rtfmri/lib/python3.6/importlib/_bootstrap.py:219: RuntimeWarning: numpy.dtype size changed, may indicate binary incompatibility. Expected 96, got 88\n",
      "  return f(*args, **kwds)\n"
     ]
    }
   ],
   "source": [
    "import nibabel as nib\n",
    "import numpy as np\n",
    "import pandas as pd\n",
    "import os.path as op"
   ]
  },
  {
   "cell_type": "code",
   "execution_count": 3,
   "metadata": {},
   "outputs": [],
   "source": [
    "import AFQ.registration as afr"
   ]
  },
  {
   "cell_type": "code",
   "execution_count": 4,
   "metadata": {},
   "outputs": [],
   "source": [
    "from nilearn.input_data import NiftiMasker"
   ]
  },
  {
   "cell_type": "code",
   "execution_count": 5,
   "metadata": {},
   "outputs": [],
   "source": [
    "func_filename = op.join(op.expanduser('~'), 'data', 'rtfmri', 'func_0000.nii.gz')"
   ]
  },
  {
   "cell_type": "code",
   "execution_count": 6,
   "metadata": {},
   "outputs": [],
   "source": [
    "func_img = nib.load(func_filename)"
   ]
  },
  {
   "cell_type": "code",
   "execution_count": 7,
   "metadata": {},
   "outputs": [],
   "source": [
    "func_data = func_img.get_data()"
   ]
  },
  {
   "cell_type": "code",
   "execution_count": 8,
   "metadata": {},
   "outputs": [],
   "source": [
    "conditions = pd.read_csv(op.join(op.expanduser('~'), 'data', 'rtfmri', 'timingFiles', 'fullRunLabels.txt'), header=None)"
   ]
  },
  {
   "cell_type": "code",
   "execution_count": 9,
   "metadata": {},
   "outputs": [],
   "source": [
    "condition_mask = conditions[0].isin(['Rest', 'Active'])\n",
    "conditions = conditions[condition_mask]\n",
    "func_data = func_data[..., condition_mask]"
   ]
  },
  {
   "cell_type": "code",
   "execution_count": 10,
   "metadata": {},
   "outputs": [],
   "source": [
    "reference_data = func_img.dataobj[..., 0]"
   ]
  },
  {
   "cell_type": "code",
   "execution_count": 11,
   "metadata": {},
   "outputs": [],
   "source": [
    "# Here we define our ML pipeline: feature selection using ANOVA followed by an SVM classifier:\n",
    "\n",
    "# Define the dimension reduction to be used.\n",
    "# Here we use a classical univariate feature selection based on F-test,\n",
    "# namely Anova. When doing full-brain analysis, it is better to use\n",
    "# SelectPercentile, keeping 5% of voxels\n",
    "# (because it is independent of the resolution of the data).\n",
    "from sklearn.feature_selection import SelectPercentile, f_classif\n",
    "feature_selection = SelectPercentile(f_classif, percentile=5)\n",
    "\n",
    "from sklearn.svm import SVC\n",
    "svc = SVC(kernel='linear')\n",
    "\n",
    "from sklearn.pipeline import Pipeline\n",
    "anova_svc = Pipeline([('anova', feature_selection), ('svc', svc)])\n",
    "\n",
    "# We'll use point by point accuracy score: \n",
    "from sklearn.metrics import accuracy_score"
   ]
  },
  {
   "cell_type": "code",
   "execution_count": 12,
   "metadata": {},
   "outputs": [],
   "source": [
    "fit_data = func_data[..., 0, None]"
   ]
  },
  {
   "cell_type": "code",
   "execution_count": null,
   "metadata": {},
   "outputs": [
    {
     "name": "stdout",
     "output_type": "stream",
     "text": [
      "Fit data shape (64, 64, 30, 1)\n",
      "Incoming data:  1\n",
      "Register incoming data to the reference image\n",
      "Optimizing level 2 [max iter: 10000]\n",
      "Optimizing level 1 [max iter: 1000]\n",
      "Optimizing level 0 [max iter: 100]\n",
      "Optimizing level 2 [max iter: 10000]\n",
      "Optimizing level 1 [max iter: 1000]\n",
      "Optimizing level 0 [max iter: 100]\n",
      "Optimizing level 2 [max iter: 10000]\n",
      "Optimizing level 1 [max iter: 1000]\n",
      "Optimizing level 0 [max iter: 100]\n",
      "Create full series for this iteration\n",
      "Fit data shape (64, 64, 30, 2)\n",
      "Incoming data:  2\n",
      "Register incoming data to the reference image\n",
      "Optimizing level 2 [max iter: 10000]\n",
      "Optimizing level 1 [max iter: 1000]\n",
      "Optimizing level 0 [max iter: 100]\n",
      "Optimizing level 2 [max iter: 10000]\n",
      "Optimizing level 1 [max iter: 1000]\n",
      "Optimizing level 0 [max iter: 100]\n",
      "Optimizing level 2 [max iter: 10000]\n",
      "Optimizing level 1 [max iter: 1000]\n",
      "Optimizing level 0 [max iter: 100]\n",
      "Create full series for this iteration\n",
      "Fit data shape (64, 64, 30, 3)\n",
      "Incoming data:  3\n",
      "Register incoming data to the reference image\n",
      "Optimizing level 2 [max iter: 10000]\n",
      "Optimizing level 1 [max iter: 1000]\n",
      "Optimizing level 0 [max iter: 100]\n",
      "Optimizing level 2 [max iter: 10000]\n",
      "Optimizing level 1 [max iter: 1000]\n",
      "Optimizing level 0 [max iter: 100]\n",
      "Optimizing level 2 [max iter: 10000]\n",
      "Optimizing level 1 [max iter: 1000]\n",
      "Optimizing level 0 [max iter: 100]\n",
      "Create full series for this iteration\n",
      "Fit data shape (64, 64, 30, 4)\n",
      "Incoming data:  4\n",
      "Register incoming data to the reference image\n",
      "Optimizing level 2 [max iter: 10000]\n",
      "Optimizing level 1 [max iter: 1000]\n",
      "Optimizing level 0 [max iter: 100]\n",
      "Optimizing level 2 [max iter: 10000]\n",
      "Optimizing level 1 [max iter: 1000]\n",
      "Optimizing level 0 [max iter: 100]\n",
      "Optimizing level 2 [max iter: 10000]\n",
      "Optimizing level 1 [max iter: 1000]\n",
      "Optimizing level 0 [max iter: 100]\n",
      "Create full series for this iteration\n",
      "Fit data shape (64, 64, 30, 5)\n",
      "Incoming data:  5\n",
      "Register incoming data to the reference image\n",
      "Optimizing level 2 [max iter: 10000]\n",
      "Optimizing level 1 [max iter: 1000]\n",
      "Optimizing level 0 [max iter: 100]\n",
      "Optimizing level 2 [max iter: 10000]\n",
      "Optimizing level 1 [max iter: 1000]\n",
      "Optimizing level 0 [max iter: 100]\n",
      "Optimizing level 2 [max iter: 10000]\n",
      "Optimizing level 1 [max iter: 1000]\n",
      "Optimizing level 0 [max iter: 100]\n",
      "Create full series for this iteration\n",
      "Fit data shape (64, 64, 30, 6)\n",
      "Incoming data:  6\n",
      "Register incoming data to the reference image\n",
      "Optimizing level 2 [max iter: 10000]\n",
      "Optimizing level 1 [max iter: 1000]\n",
      "Optimizing level 0 [max iter: 100]\n",
      "Optimizing level 2 [max iter: 10000]\n",
      "Optimizing level 1 [max iter: 1000]\n",
      "Optimizing level 0 [max iter: 100]\n",
      "Optimizing level 2 [max iter: 10000]\n",
      "Optimizing level 1 [max iter: 1000]\n",
      "Optimizing level 0 [max iter: 100]\n",
      "Create full series for this iteration\n",
      "Fit data shape (64, 64, 30, 7)\n",
      "Incoming data:  7\n",
      "Register incoming data to the reference image\n",
      "Optimizing level 2 [max iter: 10000]\n",
      "Optimizing level 1 [max iter: 1000]\n",
      "Optimizing level 0 [max iter: 100]\n",
      "Optimizing level 2 [max iter: 10000]\n",
      "Optimizing level 1 [max iter: 1000]\n",
      "Optimizing level 0 [max iter: 100]\n",
      "Optimizing level 2 [max iter: 10000]\n",
      "Optimizing level 1 [max iter: 1000]\n",
      "Optimizing level 0 [max iter: 100]\n",
      "Create full series for this iteration\n",
      "Fit data shape (64, 64, 30, 8)\n",
      "Incoming data:  8\n",
      "Register incoming data to the reference image\n",
      "Optimizing level 2 [max iter: 10000]\n",
      "Optimizing level 1 [max iter: 1000]\n",
      "Optimizing level 0 [max iter: 100]\n",
      "Optimizing level 2 [max iter: 10000]\n",
      "Optimizing level 1 [max iter: 1000]\n",
      "Optimizing level 0 [max iter: 100]\n",
      "Optimizing level 2 [max iter: 10000]\n",
      "Optimizing level 1 [max iter: 1000]\n",
      "Optimizing level 0 [max iter: 100]\n",
      "Create full series for this iteration\n",
      "Fit data shape (64, 64, 30, 9)\n",
      "Incoming data:  9\n",
      "Register incoming data to the reference image\n",
      "Optimizing level 2 [max iter: 10000]\n",
      "Optimizing level 1 [max iter: 1000]\n",
      "Optimizing level 0 [max iter: 100]\n",
      "Optimizing level 2 [max iter: 10000]\n",
      "Optimizing level 1 [max iter: 1000]\n",
      "Optimizing level 0 [max iter: 100]\n",
      "Optimizing level 2 [max iter: 10000]\n",
      "Optimizing level 1 [max iter: 1000]\n",
      "Optimizing level 0 [max iter: 100]\n",
      "Create full series for this iteration\n",
      "Fit data shape (64, 64, 30, 10)\n",
      "Incoming data:  10\n",
      "Register incoming data to the reference image\n",
      "Optimizing level 2 [max iter: 10000]\n",
      "Optimizing level 1 [max iter: 1000]\n",
      "Optimizing level 0 [max iter: 100]\n",
      "Optimizing level 2 [max iter: 10000]\n",
      "Optimizing level 1 [max iter: 1000]\n",
      "Optimizing level 0 [max iter: 100]\n",
      "Optimizing level 2 [max iter: 10000]\n",
      "Optimizing level 1 [max iter: 1000]\n",
      "Optimizing level 0 [max iter: 100]\n",
      "Create full series for this iteration\n",
      "Fit data shape (64, 64, 30, 11)\n",
      "Incoming data:  11\n",
      "Register incoming data to the reference image\n",
      "Optimizing level 2 [max iter: 10000]\n",
      "Optimizing level 1 [max iter: 1000]\n",
      "Optimizing level 0 [max iter: 100]\n",
      "Optimizing level 2 [max iter: 10000]\n",
      "Optimizing level 1 [max iter: 1000]\n",
      "Optimizing level 0 [max iter: 100]\n",
      "Optimizing level 2 [max iter: 10000]\n",
      "Optimizing level 1 [max iter: 1000]\n",
      "Optimizing level 0 [max iter: 100]\n",
      "Create full series for this iteration\n"
     ]
    },
    {
     "name": "stderr",
     "output_type": "stream",
     "text": [
      "/Users/arokem/.virtualenvs/rtfmri/lib/python3.6/site-packages/sklearn/utils/validation.py:578: DataConversionWarning: A column-vector y was passed when a 1d array was expected. Please change the shape of y to (n_samples, ), for example using ravel().\n",
      "  y = column_or_1d(y, warn=True)\n",
      "/Users/arokem/.virtualenvs/rtfmri/lib/python3.6/site-packages/sklearn/feature_selection/univariate_selection.py:113: UserWarning: Features [  3403   5125   5126  21796  23484  85097  86934  88752  90586  90685\n",
      "  95925  99278 100896 100897 102477 102483 102516 104081 104098 107018\n",
      " 107219 107245 108809 108812 108819 110359 110364 111925] are constant.\n",
      "  UserWarning)\n",
      "/Users/arokem/.virtualenvs/rtfmri/lib/python3.6/site-packages/sklearn/feature_selection/univariate_selection.py:114: RuntimeWarning: divide by zero encountered in true_divide\n",
      "  f = msb / msw\n",
      "/Users/arokem/.virtualenvs/rtfmri/lib/python3.6/site-packages/sklearn/feature_selection/univariate_selection.py:114: RuntimeWarning: invalid value encountered in true_divide\n",
      "  f = msb / msw\n",
      "/Users/arokem/.virtualenvs/rtfmri/lib/python3.6/site-packages/scipy/stats/stats.py:1713: FutureWarning: Using a non-tuple sequence for multidimensional indexing is deprecated; use `arr[tuple(seq)]` instead of `arr[seq]`. In the future this will be interpreted as an array index, `arr[np.array(seq)]`, which will result either in an error or a different result.\n",
      "  return np.add.reduce(sorted[indexer] * weights, axis=axis) / sumval\n"
     ]
    },
    {
     "name": "stdout",
     "output_type": "stream",
     "text": [
      "Fit data shape (64, 64, 30, 12)\n",
      "Incoming data:  12\n",
      "Register incoming data to the reference image\n",
      "Optimizing level 2 [max iter: 10000]\n",
      "Optimizing level 1 [max iter: 1000]\n",
      "Optimizing level 0 [max iter: 100]\n",
      "Optimizing level 2 [max iter: 10000]\n",
      "Optimizing level 1 [max iter: 1000]\n",
      "Optimizing level 0 [max iter: 100]\n",
      "Optimizing level 2 [max iter: 10000]\n",
      "Optimizing level 1 [max iter: 1000]\n",
      "Optimizing level 0 [max iter: 100]\n",
      "Create full series for this iteration\n"
     ]
    },
    {
     "name": "stderr",
     "output_type": "stream",
     "text": [
      "/Users/arokem/.virtualenvs/rtfmri/lib/python3.6/site-packages/sklearn/utils/validation.py:578: DataConversionWarning: A column-vector y was passed when a 1d array was expected. Please change the shape of y to (n_samples, ), for example using ravel().\n",
      "  y = column_or_1d(y, warn=True)\n",
      "/Users/arokem/.virtualenvs/rtfmri/lib/python3.6/site-packages/sklearn/feature_selection/univariate_selection.py:113: UserWarning: Features [    58     70   1725  13502  13522  21793  30619  30636  30637  32405\n",
      "  32406  34222  34223  37848  37849  37876  37877  39739  39740  81517\n",
      "  81540  90720  95955  99324  99329  99331 100924 100932 100937 100941\n",
      " 100947 102466 102523 102534 102572 104086 104090 104104 105686 105755\n",
      " 107321 107322 108923 108933 108940 108942 108943] are constant.\n",
      "  UserWarning)\n",
      "/Users/arokem/.virtualenvs/rtfmri/lib/python3.6/site-packages/sklearn/feature_selection/univariate_selection.py:114: RuntimeWarning: divide by zero encountered in true_divide\n",
      "  f = msb / msw\n",
      "/Users/arokem/.virtualenvs/rtfmri/lib/python3.6/site-packages/scipy/stats/stats.py:1713: FutureWarning: Using a non-tuple sequence for multidimensional indexing is deprecated; use `arr[tuple(seq)]` instead of `arr[seq]`. In the future this will be interpreted as an array index, `arr[np.array(seq)]`, which will result either in an error or a different result.\n",
      "  return np.add.reduce(sorted[indexer] * weights, axis=axis) / sumval\n"
     ]
    },
    {
     "name": "stdout",
     "output_type": "stream",
     "text": [
      "Fit data shape (64, 64, 30, 13)\n",
      "Incoming data:  13\n",
      "Register incoming data to the reference image\n",
      "Optimizing level 2 [max iter: 10000]\n",
      "Optimizing level 1 [max iter: 1000]\n",
      "Optimizing level 0 [max iter: 100]\n",
      "Optimizing level 2 [max iter: 10000]\n",
      "Optimizing level 1 [max iter: 1000]\n",
      "Optimizing level 0 [max iter: 100]\n",
      "Optimizing level 2 [max iter: 10000]\n",
      "Optimizing level 1 [max iter: 1000]\n",
      "Optimizing level 0 [max iter: 100]\n",
      "Create full series for this iteration\n"
     ]
    },
    {
     "name": "stderr",
     "output_type": "stream",
     "text": [
      "/Users/arokem/.virtualenvs/rtfmri/lib/python3.6/site-packages/sklearn/utils/validation.py:578: DataConversionWarning: A column-vector y was passed when a 1d array was expected. Please change the shape of y to (n_samples, ), for example using ravel().\n",
      "  y = column_or_1d(y, warn=True)\n",
      "/Users/arokem/.virtualenvs/rtfmri/lib/python3.6/site-packages/sklearn/feature_selection/univariate_selection.py:113: UserWarning: Features [ 6699 18547 20121 96011 97630] are constant.\n",
      "  UserWarning)\n",
      "/Users/arokem/.virtualenvs/rtfmri/lib/python3.6/site-packages/sklearn/feature_selection/univariate_selection.py:114: RuntimeWarning: divide by zero encountered in true_divide\n",
      "  f = msb / msw\n",
      "/Users/arokem/.virtualenvs/rtfmri/lib/python3.6/site-packages/scipy/stats/stats.py:1713: FutureWarning: Using a non-tuple sequence for multidimensional indexing is deprecated; use `arr[tuple(seq)]` instead of `arr[seq]`. In the future this will be interpreted as an array index, `arr[np.array(seq)]`, which will result either in an error or a different result.\n",
      "  return np.add.reduce(sorted[indexer] * weights, axis=axis) / sumval\n"
     ]
    },
    {
     "name": "stdout",
     "output_type": "stream",
     "text": [
      "Fit data shape (64, 64, 30, 14)\n",
      "Incoming data:  14\n",
      "Register incoming data to the reference image\n",
      "Optimizing level 2 [max iter: 10000]\n",
      "Optimizing level 1 [max iter: 1000]\n",
      "Optimizing level 0 [max iter: 100]\n",
      "Optimizing level 2 [max iter: 10000]\n",
      "Optimizing level 1 [max iter: 1000]\n",
      "Optimizing level 0 [max iter: 100]\n",
      "Optimizing level 2 [max iter: 10000]\n",
      "Optimizing level 1 [max iter: 1000]\n",
      "Optimizing level 0 [max iter: 100]\n",
      "Create full series for this iteration\n"
     ]
    },
    {
     "name": "stderr",
     "output_type": "stream",
     "text": [
      "/Users/arokem/.virtualenvs/rtfmri/lib/python3.6/site-packages/sklearn/utils/validation.py:578: DataConversionWarning: A column-vector y was passed when a 1d array was expected. Please change the shape of y to (n_samples, ), for example using ravel().\n",
      "  y = column_or_1d(y, warn=True)\n",
      "/Users/arokem/.virtualenvs/rtfmri/lib/python3.6/site-packages/sklearn/feature_selection/univariate_selection.py:113: UserWarning: Features [ 20149  21828  21860  34433  94460  97773  99394 101013 101018 104217\n",
      " 105846 107405 112136 112159] are constant.\n",
      "  UserWarning)\n",
      "/Users/arokem/.virtualenvs/rtfmri/lib/python3.6/site-packages/sklearn/feature_selection/univariate_selection.py:114: RuntimeWarning: divide by zero encountered in true_divide\n",
      "  f = msb / msw\n",
      "/Users/arokem/.virtualenvs/rtfmri/lib/python3.6/site-packages/scipy/stats/stats.py:1713: FutureWarning: Using a non-tuple sequence for multidimensional indexing is deprecated; use `arr[tuple(seq)]` instead of `arr[seq]`. In the future this will be interpreted as an array index, `arr[np.array(seq)]`, which will result either in an error or a different result.\n",
      "  return np.add.reduce(sorted[indexer] * weights, axis=axis) / sumval\n"
     ]
    },
    {
     "name": "stdout",
     "output_type": "stream",
     "text": [
      "Fit data shape (64, 64, 30, 15)\n",
      "Incoming data:  15\n",
      "Register incoming data to the reference image\n",
      "Optimizing level 2 [max iter: 10000]\n",
      "Optimizing level 1 [max iter: 1000]\n",
      "Optimizing level 0 [max iter: 100]\n",
      "Optimizing level 2 [max iter: 10000]\n",
      "Optimizing level 1 [max iter: 1000]\n",
      "Optimizing level 0 [max iter: 100]\n",
      "Optimizing level 2 [max iter: 10000]\n",
      "Optimizing level 1 [max iter: 1000]\n",
      "Optimizing level 0 [max iter: 100]\n",
      "Create full series for this iteration\n"
     ]
    },
    {
     "name": "stderr",
     "output_type": "stream",
     "text": [
      "/Users/arokem/.virtualenvs/rtfmri/lib/python3.6/site-packages/sklearn/utils/validation.py:578: DataConversionWarning: A column-vector y was passed when a 1d array was expected. Please change the shape of y to (n_samples, ), for example using ravel().\n",
      "  y = column_or_1d(y, warn=True)\n",
      "/Users/arokem/.virtualenvs/rtfmri/lib/python3.6/site-packages/scipy/stats/stats.py:1713: FutureWarning: Using a non-tuple sequence for multidimensional indexing is deprecated; use `arr[tuple(seq)]` instead of `arr[seq]`. In the future this will be interpreted as an array index, `arr[np.array(seq)]`, which will result either in an error or a different result.\n",
      "  return np.add.reduce(sorted[indexer] * weights, axis=axis) / sumval\n"
     ]
    },
    {
     "name": "stdout",
     "output_type": "stream",
     "text": [
      "Fit data shape (64, 64, 30, 16)\n",
      "Incoming data:  16\n",
      "Register incoming data to the reference image\n",
      "Optimizing level 2 [max iter: 10000]\n",
      "Optimizing level 1 [max iter: 1000]\n",
      "Optimizing level 0 [max iter: 100]\n",
      "Optimizing level 2 [max iter: 10000]\n",
      "Optimizing level 1 [max iter: 1000]\n",
      "Optimizing level 0 [max iter: 100]\n",
      "Optimizing level 2 [max iter: 10000]\n",
      "Optimizing level 1 [max iter: 1000]\n",
      "Optimizing level 0 [max iter: 100]\n",
      "Create full series for this iteration\n"
     ]
    },
    {
     "name": "stderr",
     "output_type": "stream",
     "text": [
      "/Users/arokem/.virtualenvs/rtfmri/lib/python3.6/site-packages/sklearn/utils/validation.py:578: DataConversionWarning: A column-vector y was passed when a 1d array was expected. Please change the shape of y to (n_samples, ), for example using ravel().\n",
      "  y = column_or_1d(y, warn=True)\n",
      "/Users/arokem/.virtualenvs/rtfmri/lib/python3.6/site-packages/sklearn/feature_selection/univariate_selection.py:113: UserWarning: Features [    60   1713   3415   5205   5206   5230   5231   6870   6892   6893\n",
      "  11930  23641  25363  92608  92609  94363  96055  96068  96076  96082\n",
      "  96087  97739  97760  99389  99390  99394  99395  99398 101000 101003\n",
      " 101004 101005 101060 102619 104172 104218 104221 105780 107434 107435\n",
      " 109031 110514 110515] are constant.\n",
      "  UserWarning)\n",
      "/Users/arokem/.virtualenvs/rtfmri/lib/python3.6/site-packages/sklearn/feature_selection/univariate_selection.py:114: RuntimeWarning: invalid value encountered in true_divide\n",
      "  f = msb / msw\n",
      "/Users/arokem/.virtualenvs/rtfmri/lib/python3.6/site-packages/scipy/stats/stats.py:1713: FutureWarning: Using a non-tuple sequence for multidimensional indexing is deprecated; use `arr[tuple(seq)]` instead of `arr[seq]`. In the future this will be interpreted as an array index, `arr[np.array(seq)]`, which will result either in an error or a different result.\n",
      "  return np.add.reduce(sorted[indexer] * weights, axis=axis) / sumval\n"
     ]
    },
    {
     "name": "stdout",
     "output_type": "stream",
     "text": [
      "Fit data shape (64, 64, 30, 17)\n",
      "Incoming data:  17\n",
      "Register incoming data to the reference image\n",
      "Optimizing level 2 [max iter: 10000]\n",
      "Optimizing level 1 [max iter: 1000]\n",
      "Optimizing level 0 [max iter: 100]\n",
      "Optimizing level 2 [max iter: 10000]\n",
      "Optimizing level 1 [max iter: 1000]\n",
      "Optimizing level 0 [max iter: 100]\n",
      "Optimizing level 2 [max iter: 10000]\n",
      "Optimizing level 1 [max iter: 1000]\n",
      "Optimizing level 0 [max iter: 100]\n",
      "Create full series for this iteration\n"
     ]
    },
    {
     "name": "stderr",
     "output_type": "stream",
     "text": [
      "/Users/arokem/.virtualenvs/rtfmri/lib/python3.6/site-packages/sklearn/utils/validation.py:578: DataConversionWarning: A column-vector y was passed when a 1d array was expected. Please change the shape of y to (n_samples, ), for example using ravel().\n",
      "  y = column_or_1d(y, warn=True)\n",
      "/Users/arokem/.virtualenvs/rtfmri/lib/python3.6/site-packages/scipy/stats/stats.py:1713: FutureWarning: Using a non-tuple sequence for multidimensional indexing is deprecated; use `arr[tuple(seq)]` instead of `arr[seq]`. In the future this will be interpreted as an array index, `arr[np.array(seq)]`, which will result either in an error or a different result.\n",
      "  return np.add.reduce(sorted[indexer] * weights, axis=axis) / sumval\n"
     ]
    },
    {
     "name": "stdout",
     "output_type": "stream",
     "text": [
      "Fit data shape (64, 64, 30, 18)\n",
      "Incoming data:  18\n",
      "Register incoming data to the reference image\n",
      "Optimizing level 2 [max iter: 10000]\n",
      "Optimizing level 1 [max iter: 1000]\n",
      "Optimizing level 0 [max iter: 100]\n",
      "Optimizing level 2 [max iter: 10000]\n",
      "Optimizing level 1 [max iter: 1000]\n",
      "Optimizing level 0 [max iter: 100]\n",
      "Optimizing level 2 [max iter: 10000]\n",
      "Optimizing level 1 [max iter: 1000]\n",
      "Optimizing level 0 [max iter: 100]\n",
      "Create full series for this iteration\n"
     ]
    },
    {
     "name": "stderr",
     "output_type": "stream",
     "text": [
      "/Users/arokem/.virtualenvs/rtfmri/lib/python3.6/site-packages/sklearn/utils/validation.py:578: DataConversionWarning: A column-vector y was passed when a 1d array was expected. Please change the shape of y to (n_samples, ), for example using ravel().\n",
      "  y = column_or_1d(y, warn=True)\n",
      "/Users/arokem/.virtualenvs/rtfmri/lib/python3.6/site-packages/scipy/stats/stats.py:1713: FutureWarning: Using a non-tuple sequence for multidimensional indexing is deprecated; use `arr[tuple(seq)]` instead of `arr[seq]`. In the future this will be interpreted as an array index, `arr[np.array(seq)]`, which will result either in an error or a different result.\n",
      "  return np.add.reduce(sorted[indexer] * weights, axis=axis) / sumval\n"
     ]
    },
    {
     "name": "stdout",
     "output_type": "stream",
     "text": [
      "Fit data shape (64, 64, 30, 19)\n",
      "Incoming data:  19\n",
      "Register incoming data to the reference image\n",
      "Optimizing level 2 [max iter: 10000]\n",
      "Optimizing level 1 [max iter: 1000]\n",
      "Optimizing level 0 [max iter: 100]\n",
      "Optimizing level 2 [max iter: 10000]\n",
      "Optimizing level 1 [max iter: 1000]\n",
      "Optimizing level 0 [max iter: 100]\n",
      "Optimizing level 2 [max iter: 10000]\n",
      "Optimizing level 1 [max iter: 1000]\n",
      "Optimizing level 0 [max iter: 100]\n",
      "Create full series for this iteration\n"
     ]
    },
    {
     "name": "stderr",
     "output_type": "stream",
     "text": [
      "/Users/arokem/.virtualenvs/rtfmri/lib/python3.6/site-packages/sklearn/utils/validation.py:578: DataConversionWarning: A column-vector y was passed when a 1d array was expected. Please change the shape of y to (n_samples, ), for example using ravel().\n",
      "  y = column_or_1d(y, warn=True)\n",
      "/Users/arokem/.virtualenvs/rtfmri/lib/python3.6/site-packages/scipy/stats/stats.py:1713: FutureWarning: Using a non-tuple sequence for multidimensional indexing is deprecated; use `arr[tuple(seq)]` instead of `arr[seq]`. In the future this will be interpreted as an array index, `arr[np.array(seq)]`, which will result either in an error or a different result.\n",
      "  return np.add.reduce(sorted[indexer] * weights, axis=axis) / sumval\n"
     ]
    },
    {
     "name": "stdout",
     "output_type": "stream",
     "text": [
      "Fit data shape (64, 64, 30, 20)\n",
      "Incoming data:  20\n",
      "Register incoming data to the reference image\n",
      "Optimizing level 2 [max iter: 10000]\n",
      "Optimizing level 1 [max iter: 1000]\n",
      "Optimizing level 0 [max iter: 100]\n",
      "Optimizing level 2 [max iter: 10000]\n",
      "Optimizing level 1 [max iter: 1000]\n",
      "Optimizing level 0 [max iter: 100]\n",
      "Optimizing level 2 [max iter: 10000]\n",
      "Optimizing level 1 [max iter: 1000]\n",
      "Optimizing level 0 [max iter: 100]\n",
      "Create full series for this iteration\n"
     ]
    },
    {
     "name": "stderr",
     "output_type": "stream",
     "text": [
      "/Users/arokem/.virtualenvs/rtfmri/lib/python3.6/site-packages/sklearn/utils/validation.py:578: DataConversionWarning: A column-vector y was passed when a 1d array was expected. Please change the shape of y to (n_samples, ), for example using ravel().\n",
      "  y = column_or_1d(y, warn=True)\n",
      "/Users/arokem/.virtualenvs/rtfmri/lib/python3.6/site-packages/scipy/stats/stats.py:1713: FutureWarning: Using a non-tuple sequence for multidimensional indexing is deprecated; use `arr[tuple(seq)]` instead of `arr[seq]`. In the future this will be interpreted as an array index, `arr[np.array(seq)]`, which will result either in an error or a different result.\n",
      "  return np.add.reduce(sorted[indexer] * weights, axis=axis) / sumval\n"
     ]
    },
    {
     "name": "stdout",
     "output_type": "stream",
     "text": [
      "Fit data shape (64, 64, 30, 21)\n",
      "Incoming data:  21\n",
      "Register incoming data to the reference image\n",
      "Optimizing level 2 [max iter: 10000]\n",
      "Optimizing level 1 [max iter: 1000]\n",
      "Optimizing level 0 [max iter: 100]\n",
      "Optimizing level 2 [max iter: 10000]\n",
      "Optimizing level 1 [max iter: 1000]\n",
      "Optimizing level 0 [max iter: 100]\n",
      "Optimizing level 2 [max iter: 10000]\n",
      "Optimizing level 1 [max iter: 1000]\n",
      "Optimizing level 0 [max iter: 100]\n",
      "Create full series for this iteration\n"
     ]
    },
    {
     "name": "stderr",
     "output_type": "stream",
     "text": [
      "/Users/arokem/.virtualenvs/rtfmri/lib/python3.6/site-packages/sklearn/utils/validation.py:578: DataConversionWarning: A column-vector y was passed when a 1d array was expected. Please change the shape of y to (n_samples, ), for example using ravel().\n",
      "  y = column_or_1d(y, warn=True)\n",
      "/Users/arokem/.virtualenvs/rtfmri/lib/python3.6/site-packages/sklearn/feature_selection/univariate_selection.py:113: UserWarning: Features [   132  10065 103518 105129 105224 106837 108480 110103 111717 111724] are constant.\n",
      "  UserWarning)\n",
      "/Users/arokem/.virtualenvs/rtfmri/lib/python3.6/site-packages/sklearn/feature_selection/univariate_selection.py:114: RuntimeWarning: invalid value encountered in true_divide\n",
      "  f = msb / msw\n",
      "/Users/arokem/.virtualenvs/rtfmri/lib/python3.6/site-packages/scipy/stats/stats.py:1713: FutureWarning: Using a non-tuple sequence for multidimensional indexing is deprecated; use `arr[tuple(seq)]` instead of `arr[seq]`. In the future this will be interpreted as an array index, `arr[np.array(seq)]`, which will result either in an error or a different result.\n",
      "  return np.add.reduce(sorted[indexer] * weights, axis=axis) / sumval\n"
     ]
    },
    {
     "name": "stdout",
     "output_type": "stream",
     "text": [
      "Fit data shape (64, 64, 30, 22)\n",
      "Incoming data:  22\n",
      "Register incoming data to the reference image\n",
      "Optimizing level 2 [max iter: 10000]\n",
      "Optimizing level 1 [max iter: 1000]\n",
      "Optimizing level 0 [max iter: 100]\n",
      "Optimizing level 2 [max iter: 10000]\n",
      "Optimizing level 1 [max iter: 1000]\n",
      "Optimizing level 0 [max iter: 100]\n",
      "Optimizing level 2 [max iter: 10000]\n",
      "Optimizing level 1 [max iter: 1000]\n",
      "Optimizing level 0 [max iter: 100]\n",
      "Create full series for this iteration\n"
     ]
    },
    {
     "name": "stderr",
     "output_type": "stream",
     "text": [
      "/Users/arokem/.virtualenvs/rtfmri/lib/python3.6/site-packages/sklearn/utils/validation.py:578: DataConversionWarning: A column-vector y was passed when a 1d array was expected. Please change the shape of y to (n_samples, ), for example using ravel().\n",
      "  y = column_or_1d(y, warn=True)\n",
      "/Users/arokem/.virtualenvs/rtfmri/lib/python3.6/site-packages/sklearn/feature_selection/univariate_selection.py:113: UserWarning: Features [ 1762 15175 97745 97753 97756 99331] are constant.\n",
      "  UserWarning)\n",
      "/Users/arokem/.virtualenvs/rtfmri/lib/python3.6/site-packages/sklearn/feature_selection/univariate_selection.py:114: RuntimeWarning: invalid value encountered in true_divide\n",
      "  f = msb / msw\n",
      "/Users/arokem/.virtualenvs/rtfmri/lib/python3.6/site-packages/scipy/stats/stats.py:1713: FutureWarning: Using a non-tuple sequence for multidimensional indexing is deprecated; use `arr[tuple(seq)]` instead of `arr[seq]`. In the future this will be interpreted as an array index, `arr[np.array(seq)]`, which will result either in an error or a different result.\n",
      "  return np.add.reduce(sorted[indexer] * weights, axis=axis) / sumval\n"
     ]
    },
    {
     "name": "stdout",
     "output_type": "stream",
     "text": [
      "Fit data shape (64, 64, 30, 23)\n",
      "Incoming data:  23\n",
      "Register incoming data to the reference image\n",
      "Optimizing level 2 [max iter: 10000]\n",
      "Optimizing level 1 [max iter: 1000]\n",
      "Optimizing level 0 [max iter: 100]\n",
      "Optimizing level 2 [max iter: 10000]\n",
      "Optimizing level 1 [max iter: 1000]\n",
      "Optimizing level 0 [max iter: 100]\n",
      "Optimizing level 2 [max iter: 10000]\n",
      "Optimizing level 1 [max iter: 1000]\n",
      "Optimizing level 0 [max iter: 100]\n",
      "Create full series for this iteration\n"
     ]
    },
    {
     "name": "stderr",
     "output_type": "stream",
     "text": [
      "/Users/arokem/.virtualenvs/rtfmri/lib/python3.6/site-packages/sklearn/utils/validation.py:578: DataConversionWarning: A column-vector y was passed when a 1d array was expected. Please change the shape of y to (n_samples, ), for example using ravel().\n",
      "  y = column_or_1d(y, warn=True)\n",
      "/Users/arokem/.virtualenvs/rtfmri/lib/python3.6/site-packages/sklearn/feature_selection/univariate_selection.py:113: UserWarning: Features [  8405  11786  21779  37911 110549 110581 110584 110587 112156] are constant.\n",
      "  UserWarning)\n",
      "/Users/arokem/.virtualenvs/rtfmri/lib/python3.6/site-packages/sklearn/feature_selection/univariate_selection.py:114: RuntimeWarning: invalid value encountered in true_divide\n",
      "  f = msb / msw\n",
      "/Users/arokem/.virtualenvs/rtfmri/lib/python3.6/site-packages/scipy/stats/stats.py:1713: FutureWarning: Using a non-tuple sequence for multidimensional indexing is deprecated; use `arr[tuple(seq)]` instead of `arr[seq]`. In the future this will be interpreted as an array index, `arr[np.array(seq)]`, which will result either in an error or a different result.\n",
      "  return np.add.reduce(sorted[indexer] * weights, axis=axis) / sumval\n"
     ]
    },
    {
     "name": "stdout",
     "output_type": "stream",
     "text": [
      "Fit data shape (64, 64, 30, 24)\n",
      "Incoming data:  24\n",
      "Register incoming data to the reference image\n",
      "Optimizing level 2 [max iter: 10000]\n",
      "Optimizing level 1 [max iter: 1000]\n",
      "Optimizing level 0 [max iter: 100]\n",
      "Optimizing level 2 [max iter: 10000]\n",
      "Optimizing level 1 [max iter: 1000]\n",
      "Optimizing level 0 [max iter: 100]\n",
      "Optimizing level 2 [max iter: 10000]\n",
      "Optimizing level 1 [max iter: 1000]\n",
      "Optimizing level 0 [max iter: 100]\n",
      "Create full series for this iteration\n"
     ]
    },
    {
     "name": "stderr",
     "output_type": "stream",
     "text": [
      "/Users/arokem/.virtualenvs/rtfmri/lib/python3.6/site-packages/sklearn/utils/validation.py:578: DataConversionWarning: A column-vector y was passed when a 1d array was expected. Please change the shape of y to (n_samples, ), for example using ravel().\n",
      "  y = column_or_1d(y, warn=True)\n",
      "/Users/arokem/.virtualenvs/rtfmri/lib/python3.6/site-packages/scipy/stats/stats.py:1713: FutureWarning: Using a non-tuple sequence for multidimensional indexing is deprecated; use `arr[tuple(seq)]` instead of `arr[seq]`. In the future this will be interpreted as an array index, `arr[np.array(seq)]`, which will result either in an error or a different result.\n",
      "  return np.add.reduce(sorted[indexer] * weights, axis=axis) / sumval\n"
     ]
    },
    {
     "name": "stdout",
     "output_type": "stream",
     "text": [
      "Fit data shape (64, 64, 30, 25)\n",
      "Incoming data:  25\n",
      "Register incoming data to the reference image\n",
      "Optimizing level 2 [max iter: 10000]\n",
      "Optimizing level 1 [max iter: 1000]\n",
      "Optimizing level 0 [max iter: 100]\n",
      "Optimizing level 2 [max iter: 10000]\n",
      "Optimizing level 1 [max iter: 1000]\n",
      "Optimizing level 0 [max iter: 100]\n",
      "Optimizing level 2 [max iter: 10000]\n",
      "Optimizing level 1 [max iter: 1000]\n",
      "Optimizing level 0 [max iter: 100]\n",
      "Create full series for this iteration\n"
     ]
    },
    {
     "name": "stderr",
     "output_type": "stream",
     "text": [
      "/Users/arokem/.virtualenvs/rtfmri/lib/python3.6/site-packages/sklearn/utils/validation.py:578: DataConversionWarning: A column-vector y was passed when a 1d array was expected. Please change the shape of y to (n_samples, ), for example using ravel().\n",
      "  y = column_or_1d(y, warn=True)\n",
      "/Users/arokem/.virtualenvs/rtfmri/lib/python3.6/site-packages/sklearn/feature_selection/univariate_selection.py:113: UserWarning: Features [10229 99346] are constant.\n",
      "  UserWarning)\n",
      "/Users/arokem/.virtualenvs/rtfmri/lib/python3.6/site-packages/sklearn/feature_selection/univariate_selection.py:114: RuntimeWarning: invalid value encountered in true_divide\n",
      "  f = msb / msw\n",
      "/Users/arokem/.virtualenvs/rtfmri/lib/python3.6/site-packages/scipy/stats/stats.py:1713: FutureWarning: Using a non-tuple sequence for multidimensional indexing is deprecated; use `arr[tuple(seq)]` instead of `arr[seq]`. In the future this will be interpreted as an array index, `arr[np.array(seq)]`, which will result either in an error or a different result.\n",
      "  return np.add.reduce(sorted[indexer] * weights, axis=axis) / sumval\n"
     ]
    },
    {
     "name": "stdout",
     "output_type": "stream",
     "text": [
      "Fit data shape (64, 64, 30, 26)\n",
      "Incoming data:  26\n",
      "Register incoming data to the reference image\n",
      "Optimizing level 2 [max iter: 10000]\n",
      "Optimizing level 1 [max iter: 1000]\n",
      "Optimizing level 0 [max iter: 100]\n",
      "Optimizing level 2 [max iter: 10000]\n",
      "Optimizing level 1 [max iter: 1000]\n",
      "Optimizing level 0 [max iter: 100]\n",
      "Optimizing level 2 [max iter: 10000]\n",
      "Optimizing level 1 [max iter: 1000]\n",
      "Optimizing level 0 [max iter: 100]\n",
      "Create full series for this iteration\n"
     ]
    },
    {
     "name": "stderr",
     "output_type": "stream",
     "text": [
      "/Users/arokem/.virtualenvs/rtfmri/lib/python3.6/site-packages/sklearn/utils/validation.py:578: DataConversionWarning: A column-vector y was passed when a 1d array was expected. Please change the shape of y to (n_samples, ), for example using ravel().\n",
      "  y = column_or_1d(y, warn=True)\n",
      "/Users/arokem/.virtualenvs/rtfmri/lib/python3.6/site-packages/sklearn/feature_selection/univariate_selection.py:114: RuntimeWarning: divide by zero encountered in true_divide\n",
      "  f = msb / msw\n",
      "/Users/arokem/.virtualenvs/rtfmri/lib/python3.6/site-packages/scipy/stats/stats.py:1713: FutureWarning: Using a non-tuple sequence for multidimensional indexing is deprecated; use `arr[tuple(seq)]` instead of `arr[seq]`. In the future this will be interpreted as an array index, `arr[np.array(seq)]`, which will result either in an error or a different result.\n",
      "  return np.add.reduce(sorted[indexer] * weights, axis=axis) / sumval\n"
     ]
    },
    {
     "name": "stdout",
     "output_type": "stream",
     "text": [
      "Fit data shape (64, 64, 30, 27)\n",
      "Incoming data:  27\n",
      "Register incoming data to the reference image\n",
      "Optimizing level 2 [max iter: 10000]\n",
      "Optimizing level 1 [max iter: 1000]\n",
      "Optimizing level 0 [max iter: 100]\n",
      "Optimizing level 2 [max iter: 10000]\n",
      "Optimizing level 1 [max iter: 1000]\n",
      "Optimizing level 0 [max iter: 100]\n",
      "Optimizing level 2 [max iter: 10000]\n",
      "Optimizing level 1 [max iter: 1000]\n",
      "Optimizing level 0 [max iter: 100]\n",
      "Create full series for this iteration\n"
     ]
    },
    {
     "name": "stderr",
     "output_type": "stream",
     "text": [
      "/Users/arokem/.virtualenvs/rtfmri/lib/python3.6/site-packages/sklearn/utils/validation.py:578: DataConversionWarning: A column-vector y was passed when a 1d array was expected. Please change the shape of y to (n_samples, ), for example using ravel().\n",
      "  y = column_or_1d(y, warn=True)\n",
      "/Users/arokem/.virtualenvs/rtfmri/lib/python3.6/site-packages/scipy/stats/stats.py:1713: FutureWarning: Using a non-tuple sequence for multidimensional indexing is deprecated; use `arr[tuple(seq)]` instead of `arr[seq]`. In the future this will be interpreted as an array index, `arr[np.array(seq)]`, which will result either in an error or a different result.\n",
      "  return np.add.reduce(sorted[indexer] * weights, axis=axis) / sumval\n"
     ]
    },
    {
     "name": "stdout",
     "output_type": "stream",
     "text": [
      "Fit data shape (64, 64, 30, 28)\n",
      "Incoming data:  28\n",
      "Register incoming data to the reference image\n",
      "Optimizing level 2 [max iter: 10000]\n",
      "Optimizing level 1 [max iter: 1000]\n",
      "Optimizing level 0 [max iter: 100]\n",
      "Optimizing level 2 [max iter: 10000]\n",
      "Optimizing level 1 [max iter: 1000]\n",
      "Optimizing level 0 [max iter: 100]\n",
      "Optimizing level 2 [max iter: 10000]\n",
      "Optimizing level 1 [max iter: 1000]\n",
      "Optimizing level 0 [max iter: 100]\n",
      "Create full series for this iteration\n"
     ]
    },
    {
     "name": "stderr",
     "output_type": "stream",
     "text": [
      "/Users/arokem/.virtualenvs/rtfmri/lib/python3.6/site-packages/sklearn/utils/validation.py:578: DataConversionWarning: A column-vector y was passed when a 1d array was expected. Please change the shape of y to (n_samples, ), for example using ravel().\n",
      "  y = column_or_1d(y, warn=True)\n",
      "/Users/arokem/.virtualenvs/rtfmri/lib/python3.6/site-packages/scipy/stats/stats.py:1713: FutureWarning: Using a non-tuple sequence for multidimensional indexing is deprecated; use `arr[tuple(seq)]` instead of `arr[seq]`. In the future this will be interpreted as an array index, `arr[np.array(seq)]`, which will result either in an error or a different result.\n",
      "  return np.add.reduce(sorted[indexer] * weights, axis=axis) / sumval\n"
     ]
    },
    {
     "name": "stdout",
     "output_type": "stream",
     "text": [
      "Fit data shape (64, 64, 30, 29)\n",
      "Incoming data:  29\n",
      "Register incoming data to the reference image\n",
      "Optimizing level 2 [max iter: 10000]\n",
      "Optimizing level 1 [max iter: 1000]\n",
      "Optimizing level 0 [max iter: 100]\n",
      "Optimizing level 2 [max iter: 10000]\n",
      "Optimizing level 1 [max iter: 1000]\n",
      "Optimizing level 0 [max iter: 100]\n",
      "Optimizing level 2 [max iter: 10000]\n",
      "Optimizing level 1 [max iter: 1000]\n",
      "Optimizing level 0 [max iter: 100]\n",
      "Create full series for this iteration\n"
     ]
    },
    {
     "name": "stderr",
     "output_type": "stream",
     "text": [
      "/Users/arokem/.virtualenvs/rtfmri/lib/python3.6/site-packages/sklearn/utils/validation.py:578: DataConversionWarning: A column-vector y was passed when a 1d array was expected. Please change the shape of y to (n_samples, ), for example using ravel().\n",
      "  y = column_or_1d(y, warn=True)\n",
      "/Users/arokem/.virtualenvs/rtfmri/lib/python3.6/site-packages/scipy/stats/stats.py:1713: FutureWarning: Using a non-tuple sequence for multidimensional indexing is deprecated; use `arr[tuple(seq)]` instead of `arr[seq]`. In the future this will be interpreted as an array index, `arr[np.array(seq)]`, which will result either in an error or a different result.\n",
      "  return np.add.reduce(sorted[indexer] * weights, axis=axis) / sumval\n"
     ]
    },
    {
     "name": "stdout",
     "output_type": "stream",
     "text": [
      "Fit data shape (64, 64, 30, 30)\n",
      "Incoming data:  30\n",
      "Register incoming data to the reference image\n",
      "Optimizing level 2 [max iter: 10000]\n",
      "Optimizing level 1 [max iter: 1000]\n",
      "Optimizing level 0 [max iter: 100]\n",
      "Optimizing level 2 [max iter: 10000]\n",
      "Optimizing level 1 [max iter: 1000]\n",
      "Optimizing level 0 [max iter: 100]\n",
      "Optimizing level 2 [max iter: 10000]\n",
      "Optimizing level 1 [max iter: 1000]\n",
      "Optimizing level 0 [max iter: 100]\n",
      "Create full series for this iteration\n"
     ]
    },
    {
     "name": "stderr",
     "output_type": "stream",
     "text": [
      "/Users/arokem/.virtualenvs/rtfmri/lib/python3.6/site-packages/sklearn/utils/validation.py:578: DataConversionWarning: A column-vector y was passed when a 1d array was expected. Please change the shape of y to (n_samples, ), for example using ravel().\n",
      "  y = column_or_1d(y, warn=True)\n",
      "/Users/arokem/.virtualenvs/rtfmri/lib/python3.6/site-packages/scipy/stats/stats.py:1713: FutureWarning: Using a non-tuple sequence for multidimensional indexing is deprecated; use `arr[tuple(seq)]` instead of `arr[seq]`. In the future this will be interpreted as an array index, `arr[np.array(seq)]`, which will result either in an error or a different result.\n",
      "  return np.add.reduce(sorted[indexer] * weights, axis=axis) / sumval\n"
     ]
    },
    {
     "name": "stdout",
     "output_type": "stream",
     "text": [
      "Fit data shape (64, 64, 30, 31)\n",
      "Incoming data:  31\n",
      "Register incoming data to the reference image\n",
      "Optimizing level 2 [max iter: 10000]\n",
      "Optimizing level 1 [max iter: 1000]\n",
      "Optimizing level 0 [max iter: 100]\n",
      "Optimizing level 2 [max iter: 10000]\n",
      "Optimizing level 1 [max iter: 1000]\n",
      "Optimizing level 0 [max iter: 100]\n",
      "Optimizing level 2 [max iter: 10000]\n",
      "Optimizing level 1 [max iter: 1000]\n",
      "Optimizing level 0 [max iter: 100]\n",
      "Create full series for this iteration\n"
     ]
    },
    {
     "name": "stderr",
     "output_type": "stream",
     "text": [
      "/Users/arokem/.virtualenvs/rtfmri/lib/python3.6/site-packages/sklearn/utils/validation.py:578: DataConversionWarning: A column-vector y was passed when a 1d array was expected. Please change the shape of y to (n_samples, ), for example using ravel().\n",
      "  y = column_or_1d(y, warn=True)\n",
      "/Users/arokem/.virtualenvs/rtfmri/lib/python3.6/site-packages/sklearn/feature_selection/univariate_selection.py:113: UserWarning: Features [   12 94397] are constant.\n",
      "  UserWarning)\n",
      "/Users/arokem/.virtualenvs/rtfmri/lib/python3.6/site-packages/sklearn/feature_selection/univariate_selection.py:114: RuntimeWarning: invalid value encountered in true_divide\n",
      "  f = msb / msw\n",
      "/Users/arokem/.virtualenvs/rtfmri/lib/python3.6/site-packages/scipy/stats/stats.py:1713: FutureWarning: Using a non-tuple sequence for multidimensional indexing is deprecated; use `arr[tuple(seq)]` instead of `arr[seq]`. In the future this will be interpreted as an array index, `arr[np.array(seq)]`, which will result either in an error or a different result.\n",
      "  return np.add.reduce(sorted[indexer] * weights, axis=axis) / sumval\n"
     ]
    },
    {
     "name": "stdout",
     "output_type": "stream",
     "text": [
      "Fit data shape (64, 64, 30, 32)\n",
      "Incoming data:  32\n",
      "Register incoming data to the reference image\n",
      "Optimizing level 2 [max iter: 10000]\n",
      "Optimizing level 1 [max iter: 1000]\n",
      "Optimizing level 0 [max iter: 100]\n",
      "Optimizing level 2 [max iter: 10000]\n",
      "Optimizing level 1 [max iter: 1000]\n",
      "Optimizing level 0 [max iter: 100]\n",
      "Optimizing level 2 [max iter: 10000]\n",
      "Optimizing level 1 [max iter: 1000]\n",
      "Optimizing level 0 [max iter: 100]\n",
      "Create full series for this iteration\n"
     ]
    },
    {
     "name": "stderr",
     "output_type": "stream",
     "text": [
      "/Users/arokem/.virtualenvs/rtfmri/lib/python3.6/site-packages/sklearn/utils/validation.py:578: DataConversionWarning: A column-vector y was passed when a 1d array was expected. Please change the shape of y to (n_samples, ), for example using ravel().\n",
      "  y = column_or_1d(y, warn=True)\n",
      "/Users/arokem/.virtualenvs/rtfmri/lib/python3.6/site-packages/scipy/stats/stats.py:1713: FutureWarning: Using a non-tuple sequence for multidimensional indexing is deprecated; use `arr[tuple(seq)]` instead of `arr[seq]`. In the future this will be interpreted as an array index, `arr[np.array(seq)]`, which will result either in an error or a different result.\n",
      "  return np.add.reduce(sorted[indexer] * weights, axis=axis) / sumval\n"
     ]
    },
    {
     "name": "stdout",
     "output_type": "stream",
     "text": [
      "Fit data shape (64, 64, 30, 33)\n",
      "Incoming data:  33\n",
      "Register incoming data to the reference image\n",
      "Optimizing level 2 [max iter: 10000]\n",
      "Optimizing level 1 [max iter: 1000]\n",
      "Optimizing level 0 [max iter: 100]\n",
      "Optimizing level 2 [max iter: 10000]\n",
      "Optimizing level 1 [max iter: 1000]\n",
      "Optimizing level 0 [max iter: 100]\n",
      "Optimizing level 2 [max iter: 10000]\n",
      "Optimizing level 1 [max iter: 1000]\n",
      "Optimizing level 0 [max iter: 100]\n",
      "Create full series for this iteration\n"
     ]
    },
    {
     "name": "stderr",
     "output_type": "stream",
     "text": [
      "/Users/arokem/.virtualenvs/rtfmri/lib/python3.6/site-packages/sklearn/utils/validation.py:578: DataConversionWarning: A column-vector y was passed when a 1d array was expected. Please change the shape of y to (n_samples, ), for example using ravel().\n",
      "  y = column_or_1d(y, warn=True)\n",
      "/Users/arokem/.virtualenvs/rtfmri/lib/python3.6/site-packages/scipy/stats/stats.py:1713: FutureWarning: Using a non-tuple sequence for multidimensional indexing is deprecated; use `arr[tuple(seq)]` instead of `arr[seq]`. In the future this will be interpreted as an array index, `arr[np.array(seq)]`, which will result either in an error or a different result.\n",
      "  return np.add.reduce(sorted[indexer] * weights, axis=axis) / sumval\n"
     ]
    },
    {
     "name": "stdout",
     "output_type": "stream",
     "text": [
      "Fit data shape (64, 64, 30, 34)\n",
      "Incoming data:  34\n",
      "Register incoming data to the reference image\n",
      "Optimizing level 2 [max iter: 10000]\n",
      "Optimizing level 1 [max iter: 1000]\n",
      "Optimizing level 0 [max iter: 100]\n",
      "Optimizing level 2 [max iter: 10000]\n",
      "Optimizing level 1 [max iter: 1000]\n",
      "Optimizing level 0 [max iter: 100]\n",
      "Optimizing level 2 [max iter: 10000]\n",
      "Optimizing level 1 [max iter: 1000]\n",
      "Optimizing level 0 [max iter: 100]\n",
      "Create full series for this iteration\n"
     ]
    },
    {
     "name": "stderr",
     "output_type": "stream",
     "text": [
      "/Users/arokem/.virtualenvs/rtfmri/lib/python3.6/site-packages/sklearn/utils/validation.py:578: DataConversionWarning: A column-vector y was passed when a 1d array was expected. Please change the shape of y to (n_samples, ), for example using ravel().\n",
      "  y = column_or_1d(y, warn=True)\n",
      "/Users/arokem/.virtualenvs/rtfmri/lib/python3.6/site-packages/sklearn/feature_selection/univariate_selection.py:113: UserWarning: Features [    52     53     64   1850   3548   3549   6986   8522   8541   8542\n",
      "   8704  10253  10407  10408  11920  15421  15422  15452  18806  18825\n",
      "  22163  23943  25719  27511  29406  34951  67213  72993  80573  80574\n",
      "  82501  82502  84396  84397  97184 100446 100450 100523 100524 102096\n",
      " 102103 102109 102119 102186 103762 103763 105407 105423 105433 105448\n",
      " 107056 107057 107068 110336] are constant.\n",
      "  UserWarning)\n",
      "/Users/arokem/.virtualenvs/rtfmri/lib/python3.6/site-packages/sklearn/feature_selection/univariate_selection.py:114: RuntimeWarning: invalid value encountered in true_divide\n",
      "  f = msb / msw\n",
      "/Users/arokem/.virtualenvs/rtfmri/lib/python3.6/site-packages/scipy/stats/stats.py:1713: FutureWarning: Using a non-tuple sequence for multidimensional indexing is deprecated; use `arr[tuple(seq)]` instead of `arr[seq]`. In the future this will be interpreted as an array index, `arr[np.array(seq)]`, which will result either in an error or a different result.\n",
      "  return np.add.reduce(sorted[indexer] * weights, axis=axis) / sumval\n"
     ]
    },
    {
     "name": "stdout",
     "output_type": "stream",
     "text": [
      "Fit data shape (64, 64, 30, 35)\n",
      "Incoming data:  35\n",
      "Register incoming data to the reference image\n",
      "Optimizing level 2 [max iter: 10000]\n",
      "Optimizing level 1 [max iter: 1000]\n",
      "Optimizing level 0 [max iter: 100]\n",
      "Optimizing level 2 [max iter: 10000]\n",
      "Optimizing level 1 [max iter: 1000]\n",
      "Optimizing level 0 [max iter: 100]\n",
      "Optimizing level 2 [max iter: 10000]\n",
      "Optimizing level 1 [max iter: 1000]\n",
      "Optimizing level 0 [max iter: 100]\n",
      "Create full series for this iteration\n"
     ]
    },
    {
     "name": "stderr",
     "output_type": "stream",
     "text": [
      "/Users/arokem/.virtualenvs/rtfmri/lib/python3.6/site-packages/sklearn/utils/validation.py:578: DataConversionWarning: A column-vector y was passed when a 1d array was expected. Please change the shape of y to (n_samples, ), for example using ravel().\n",
      "  y = column_or_1d(y, warn=True)\n",
      "/Users/arokem/.virtualenvs/rtfmri/lib/python3.6/site-packages/sklearn/feature_selection/univariate_selection.py:114: RuntimeWarning: divide by zero encountered in true_divide\n",
      "  f = msb / msw\n",
      "/Users/arokem/.virtualenvs/rtfmri/lib/python3.6/site-packages/scipy/stats/stats.py:1713: FutureWarning: Using a non-tuple sequence for multidimensional indexing is deprecated; use `arr[tuple(seq)]` instead of `arr[seq]`. In the future this will be interpreted as an array index, `arr[np.array(seq)]`, which will result either in an error or a different result.\n",
      "  return np.add.reduce(sorted[indexer] * weights, axis=axis) / sumval\n"
     ]
    },
    {
     "name": "stdout",
     "output_type": "stream",
     "text": [
      "Fit data shape (64, 64, 30, 36)\n",
      "Incoming data:  36\n",
      "Register incoming data to the reference image\n",
      "Optimizing level 2 [max iter: 10000]\n",
      "Optimizing level 1 [max iter: 1000]\n",
      "Optimizing level 0 [max iter: 100]\n"
     ]
    }
   ],
   "source": [
    "accuracies = []\n",
    "\n",
    "for idx in range(1, func_img.shape[-1]):\n",
    "    print(\"Fit data shape {0}\".format(fit_data.shape))\n",
    "    \n",
    "    print(\"Incoming data: \", idx)\n",
    "    this_data = func_img.dataobj[..., idx]\n",
    "\n",
    "    print(\"Register incoming data to the reference image\")\n",
    "    this_data, _ = afr.affine_registration(this_data,\n",
    "                                           reference_data)\n",
    "    print(\"Create full series for this iteration\")\n",
    "    fit_data = np.concatenate([fit_data, this_data[..., None]], axis=-1)\n",
    "    \n",
    "    if idx > 10:\n",
    "        mask_data = np.zeros(this_data.shape)\n",
    "        mask_data[this_data > 0] = 1\n",
    "        masker = NiftiMasker(mask_img=nib.Nifti1Image(mask_data, func_img.affine), #smoothing_fwhm=4,\n",
    "                             standardize=True, memory_level=1)\n",
    "\n",
    "        X = masker.fit_transform(nib.Nifti1Image(fit_data, func_img.affine))\n",
    "        anova_svc.fit(X[:idx], conditions[:idx])\n",
    "        y_pred = anova_svc.predict(X[idx].reshape(1, -1))\n",
    "        accuracies.append(accuracy_score(y_pred, conditions.iloc[idx]))"
   ]
  },
  {
   "cell_type": "code",
   "execution_count": null,
   "metadata": {},
   "outputs": [],
   "source": []
  },
  {
   "cell_type": "code",
   "execution_count": null,
   "metadata": {},
   "outputs": [],
   "source": []
  }
 ],
 "metadata": {
  "kernelspec": {
   "display_name": "Python 3",
   "language": "python",
   "name": "python3"
  },
  "language_info": {
   "codemirror_mode": {
    "name": "ipython",
    "version": 3
   },
   "file_extension": ".py",
   "mimetype": "text/x-python",
   "name": "python",
   "nbconvert_exporter": "python",
   "pygments_lexer": "ipython3",
   "version": "3.6.4"
  }
 },
 "nbformat": 4,
 "nbformat_minor": 2
}
