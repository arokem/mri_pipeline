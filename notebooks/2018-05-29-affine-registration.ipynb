{
 "cells": [
  {
   "cell_type": "markdown",
   "metadata": {},
   "source": [
    "# Affine registration\n",
    "\n",
    "This notebook presents how series of source images can be fixed by detecting affine transformations between them and applying the shift.\n",
    "\n",
    "It is usefull in terms of model fitting to skip the affine transformation part and focus on pure fitting.\n",
    "\n",
    "It is capable of processing multiple images in parallel."
   ]
  },
  {
   "cell_type": "markdown",
   "metadata": {},
   "source": [
    "## Data\n",
    "Data for the neuroscience use case is available at \n",
    "[HCP](https://wiki.humanconnectome.org/display/PublicData/How+To+Connect+to+Connectome+Data+via+AWS)\n",
    "\n",
    "Following code assumes that you have a file '.aws/credentials', \n",
    "that includes a section with credentials needed to access HCP data.\n",
    "```\n",
    "[hcp]\n",
    "AWS_ACCESS_KEY_ID=XXXXXXXXXXXXXXXX\n",
    "AWS_SECRET_ACCESS_KEY=XXXXXXXXXXXXXXXX\n",
    "```\n",
    "\n",
    "### Browsing the data on AWS S3\n",
    "Single case data consists of 3 files `bvals`, `bvecs` and `data.nii.gz`. Following command lists available cases:\n",
    "```\n",
    "aws s3 ls s3://hcp-openaccess/HCP/ --profile hcp\n",
    "```\n",
    "\n"
   ]
  },
  {
   "cell_type": "code",
   "execution_count": 4,
   "metadata": {},
   "outputs": [],
   "source": [
    "case_id = 994273\n",
    "\n",
    "import AFQ.data as afd\n",
    "\n",
    "\n",
    "data_dict = afd.fetch_hcp([case_id])"
   ]
  },
  {
   "cell_type": "code",
   "execution_count": 5,
   "metadata": {},
   "outputs": [],
   "source": [
    "import os.path as op\n",
    "home = op.expanduser('~')\n",
    "\n",
    "import nibabel as nib\n",
    "img = nib.load(op.join(home, 'AFQ_data/HCP/sub-{0}/sess-01/dwi/sub-{0}_dwi.nii.gz'.format(case_id)))\n",
    "data = img.get_data()"
   ]
  },
  {
   "cell_type": "code",
   "execution_count": 9,
   "metadata": {},
   "outputs": [],
   "source": [
    "from queue import Queue, Empty\n",
    "from threading import Thread, Lock\n",
    "\n",
    "class FixerThread(Thread):\n",
    "    def __init__(self, thread_id, task_queue, lock, data, fixed_data):\n",
    "        Thread.__init__(self)\n",
    "        self.data = data\n",
    "        self.thread_id = thread_id\n",
    "        self.task_queue = task_queue\n",
    "        self.lock = lock\n",
    "\n",
    "    def run(self):\n",
    "        try:\n",
    "            while True:\n",
    "                idx = self.task_queue.get_nowait()\n",
    "                fixed_image, _ = afr.affine_registration(data[..., idx], data[..., 0])\n",
    "                self.lock.acquire()\n",
    "                fixed_data[..., idx] = fixed_image\n",
    "                self.lock.release()\n",
    "        except Empty:\n",
    "            pass"
   ]
  },
  {
   "cell_type": "code",
   "execution_count": null,
   "metadata": {},
   "outputs": [],
   "source": [
    "import numpy as np\n",
    "import datetime\n",
    "\n",
    "fixed_data = np.array(data, copy=True)\n",
    "task_queue = Queue()\n",
    "lock = Lock()\n",
    "\n",
    "for idx in range(1, 288):\n",
    "    task_queue.put(idx)\n",
    "    \n",
    "threads = [FixerThread(thread_id, task_queue, lock, data, fixed_data) for thread_id in range(12)]\n",
    "for thread in threads:\n",
    "    print('{0} starting thread'.format(datetime.datetime.now()))\n",
    "    thread.start()\n",
    "    \n",
    "for thread in threads:\n",
    "    print('{0} joining thread'.format(datetime.datetime.now()))\n",
    "    thread.join()\n",
    "    \n",
    "print('{0} all threads joined'.format(datetime.datetime.now()))\n",
    "nib.save(fixed_data, os.path.join(home,'fixed-{0}.nii.gz'.format(case_id)))\n"
   ]
  }
 ],
 "metadata": {
  "kernelspec": {
   "display_name": "venv",
   "language": "python",
   "name": "venv"
  },
  "language_info": {
   "codemirror_mode": {
    "name": "ipython",
    "version": 3
   },
   "file_extension": ".py",
   "mimetype": "text/x-python",
   "name": "python",
   "nbconvert_exporter": "python",
   "pygments_lexer": "ipython3",
   "version": "3.6.0"
  }
 },
 "nbformat": 4,
 "nbformat_minor": 2
}
